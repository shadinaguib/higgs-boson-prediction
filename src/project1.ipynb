{
 "cells": [
  {
   "cell_type": "markdown",
   "id": "7c6566d9",
   "metadata": {
    "id": "7c6566d9"
   },
   "source": [
    "Pour l'instant les recherches s'effectuent sur le train set uniquement\n"
   ]
  },
  {
   "cell_type": "code",
   "execution_count": 1,
   "id": "Kmsk0zIdjhvl",
   "metadata": {
    "colab": {
     "base_uri": "https://localhost:8080/"
    },
    "executionInfo": {
     "elapsed": 19755,
     "status": "ok",
     "timestamp": 1635725005868,
     "user": {
      "displayName": "Shadi Naguib",
      "photoUrl": "https://lh3.googleusercontent.com/a/default-user=s64",
      "userId": "02769169812502290238"
     },
     "user_tz": -60
    },
    "id": "Kmsk0zIdjhvl",
    "outputId": "b5c2b83d-944b-480c-979c-a5d784016d2a"
   },
   "outputs": [
    {
     "name": "stdout",
     "output_type": "stream",
     "text": [
      "Mounted at /content/drive\n"
     ]
    }
   ],
   "source": [
    "from google.colab import drive\n",
    "drive.mount('/content/drive')"
   ]
  },
  {
   "cell_type": "code",
   "execution_count": 2,
   "id": "qGmAOGNjjdQP",
   "metadata": {
    "colab": {
     "base_uri": "https://localhost:8080/"
    },
    "executionInfo": {
     "elapsed": 3284,
     "status": "ok",
     "timestamp": 1635725011902,
     "user": {
      "displayName": "Shadi Naguib",
      "photoUrl": "https://lh3.googleusercontent.com/a/default-user=s64",
      "userId": "02769169812502290238"
     },
     "user_tz": -60
    },
    "id": "qGmAOGNjjdQP",
    "outputId": "8511e20f-07bd-4b79-a0df-6cc167808483"
   },
   "outputs": [
    {
     "name": "stdout",
     "output_type": "stream",
     "text": [
      "/content/drive/MyDrive/Cours/MA3/ML7/ML_course/projects/project1/Project1_final\n"
     ]
    }
   ],
   "source": [
    "cd /content/drive/MyDrive/Cours/MA3/ML7/ML_course/projects/project1/Project1_final"
   ]
  },
  {
   "cell_type": "code",
   "execution_count": 3,
   "id": "27adf826",
   "metadata": {
    "executionInfo": {
     "elapsed": 5517,
     "status": "ok",
     "timestamp": 1635725017415,
     "user": {
      "displayName": "Shadi Naguib",
      "photoUrl": "https://lh3.googleusercontent.com/a/default-user=s64",
      "userId": "02769169812502290238"
     },
     "user_tz": -60
    },
    "id": "27adf826"
   },
   "outputs": [],
   "source": [
    "import numpy as np\n",
    "import seaborn as sns\n",
    "import matplotlib.pyplot as plt\n",
    "from implementations import *\n",
    "from preprocessing import *\n",
    "from crossvalidation import *\n",
    "from helpers_p1 import *\n",
    "from tools import *\n",
    "%load_ext autoreload\n",
    "%autoreload 2"
   ]
  },
  {
   "cell_type": "markdown",
   "id": "6c4327d6",
   "metadata": {},
   "source": [
    "# Loading \n"
   ]
  },
  {
   "cell_type": "code",
   "execution_count": 4,
   "id": "08b7070b",
   "metadata": {
    "executionInfo": {
     "elapsed": 71839,
     "status": "ok",
     "timestamp": 1635725089252,
     "user": {
      "displayName": "Shadi Naguib",
      "photoUrl": "https://lh3.googleusercontent.com/a/default-user=s64",
      "userId": "02769169812502290238"
     },
     "user_tz": -60
    },
    "id": "08b7070b"
   },
   "outputs": [],
   "source": [
    "\n",
    "# Loading the data\n",
    "\n",
    "train_data_raw = np.genfromtxt(\"data/train.csv\", delimiter=',', dtype=None, encoding=None) #dtype=None pour recupérer les string de prediction (sinon ça devient des Nan))\n",
    "test_data_raw = np.genfromtxt(\"data/test.csv\", delimiter=',', dtype=None, encoding=None) #dtype=None pour recupérer les string de prediction (sinon ça devient des Nan))\n"
   ]
  },
  {
   "cell_type": "markdown",
   "id": "e4e1e691",
   "metadata": {},
   "source": [
    "# Preprocessing\n"
   ]
  },
  {
   "cell_type": "code",
   "execution_count": 5,
   "id": "6ffab1d5",
   "metadata": {
    "executionInfo": {
     "elapsed": 19383,
     "status": "ok",
     "timestamp": 1635725108632,
     "user": {
      "displayName": "Shadi Naguib",
      "photoUrl": "https://lh3.googleusercontent.com/a/default-user=s64",
      "userId": "02769169812502290238"
     },
     "user_tz": -60
    },
    "id": "6ffab1d5",
    "scrolled": true
   },
   "outputs": [],
   "source": [
    "\n",
    "# Preprocessing the data\n",
    "\n",
    "nbr_jet = 4\n",
    "undef = np.float64(-999.0)\n",
    "pred_dict = {'s':'1','b':'0', '?':'-1'}\n",
    "\n",
    "# Save raw data\n",
    "train_data = train_data_raw.copy()\n",
    "test_data = test_data_raw.copy()\n",
    "\n",
    "# drop 1st row with column names (\"[1:,\") \n",
    "train_data = train_data[1:, :]\n",
    "test_data_raw = test_data_raw[1:, :] \n",
    "\n",
    "# Change s(signal) and b(background) for s:1 and b:0, and change '?' for -1\n",
    "train_data[:,1] = np.vectorize(pred_dict.get)(train_data[:,1].astype(str))\n",
    "test_data[:,1] = np.vectorize(pred_dict.get)(test_data[:,1].astype(str))\n",
    "\n",
    "# Divide the dataset in four according to PRI_jet_num feature and cast to float\n",
    "train_data_jets = divide_dataset_by_jet(train_data)\n",
    "test_data_jets = divide_dataset_by_jet(test_data)\n",
    "\n",
    "# Remove columns with nan values or with standard deviation of 0\n",
    "test_data_jets, train_data_jets = clean_features(test_data_jets, train_data_jets, undef)\n",
    "\n",
    "# Standardize train and test sets to have mean=0 and std=1\n",
    "train_data_jets, test_data_jets = standardize(train_data_jets, test_data_jets)\n",
    "\n",
    "# Replace remaining undefined values by mean, median or zero\n",
    "train_data_mean, train_data_median, train_data_null = replace_nan(train_data_jets)\n",
    "test_data_mean, test_data_median, test_data_null = replace_nan(test_data_jets)\n",
    "\n"
   ]
  },
  {
   "cell_type": "code",
   "execution_count": 6,
   "id": "7a564922",
   "metadata": {
    "executionInfo": {
     "elapsed": 15,
     "status": "ok",
     "timestamp": 1635725108633,
     "user": {
      "displayName": "Shadi Naguib",
      "photoUrl": "https://lh3.googleusercontent.com/a/default-user=s64",
      "userId": "02769169812502290238"
     },
     "user_tz": -60
    },
    "id": "7a564922"
   },
   "outputs": [],
   "source": [
    "# Save previous data\n",
    "train_data_median_pca = train_data_median.copy()\n",
    "test_data_median_pca = test_data_median.copy()\n",
    "train_data_mean_pca = train_data_mean.copy()\n",
    "test_data_mean_pca = test_data_mean.copy()\n"
   ]
  },
  {
   "cell_type": "markdown",
   "id": "9dd7c931",
   "metadata": {},
   "source": [
    "# Principal Component Analysis"
   ]
  },
  {
   "cell_type": "code",
   "execution_count": 131,
   "id": "40a85cff",
   "metadata": {
    "executionInfo": {
     "elapsed": 1157,
     "status": "ok",
     "timestamp": 1635765912069,
     "user": {
      "displayName": "Shadi Naguib",
      "photoUrl": "https://lh3.googleusercontent.com/a/default-user=s64",
      "userId": "02769169812502290238"
     },
     "user_tz": -60
    },
    "id": "40a85cff"
   },
   "outputs": [],
   "source": [
    "\n",
    "## Principal Component Analysis\n",
    "\n",
    "# The goal was to lower the dimension of the feature space by using principal components explaining 95% of the dataset's variance\n",
    "# It was not used because predictions were not better than with original features\n",
    "\n",
    "nbr_jet = 4\n",
    "\n",
    "for jet in range(nbr_jet):\n",
    "\n",
    "    train_standardized = train_data_mean_pca[jet][:,1:]\n",
    "    train_pred = train_data_mean_pca[jet][:,0] #Prediction column\n",
    "\n",
    "    # Covar matrix\n",
    "    covariance_matrix = np.cov(train_standardized.T)\n",
    "\n",
    "    # Eigenvectors decomposition \n",
    "    eigen_values, eigen_vectors = np.linalg.eig(covariance_matrix)\n",
    "\n",
    "    # Calculating the explained variance on each of components\n",
    "    variance_explained = []\n",
    "    for i in eigen_values:\n",
    "         variance_explained.append((i/sum(eigen_values))*100)\n",
    "\n",
    "    # Identifying components that explain at least 95%\n",
    "    cumulative_variance_explained = np.cumsum(variance_explained)\n",
    "    \n",
    "    # Get the number of PCA component that explain at least 95% of the variance\n",
    "    nbr_pca_component = np.sum(cumulative_variance_explained < 95) + 1\n",
    "    \n",
    "    # Using nbr_pca_component components that explain 95% of the variance\n",
    "    projection_matrix = (eigen_vectors.T[:][:nbr_pca_component]).T\n",
    "\n",
    "    # Getting the product of original standardized X and the eigenvectors\n",
    "    # Correspond to the new dataset and new features\n",
    "    train_data_mean_pca[jet] = train_standardized.dot(projection_matrix)\n",
    "\n",
    "    # re-insert prediction column\n",
    "    train_data_mean_pca[jet] = np.insert(train_data_mean_pca[jet], 0, list(train_pred), axis=1)\n"
   ]
  },
  {
   "cell_type": "markdown",
   "id": "1f68f9ec",
   "metadata": {},
   "source": [
    "# GridSearch for best Model"
   ]
  },
  {
   "cell_type": "code",
   "execution_count": null,
   "id": "a53ab353",
   "metadata": {
    "id": "a53ab353"
   },
   "outputs": [],
   "source": [
    "### GridSearch for the best model for ridge regression \n",
    "\n",
    "nbr_jet = 1\n",
    "lambdas = np.logspace(-4, 0, 5) #5 values btw 1e-4 and 1\n",
    "degree = 15\n",
    "k_fold = 5\n",
    "seed = 6\n",
    "method = ridge_regression\n",
    "acronym = 'RR'\n",
    "\n",
    "train_data_jets = train_data_mean.copy()\n",
    "\n",
    "plot_values = []\n",
    "\n",
    "\n",
    "for jet in range(nbr_jet):\n",
    "    # Actual dataset used for the current jet\n",
    "    train_data_jet = train_data_jets[jet]\n",
    "    accuracies = []\n",
    "    \n",
    "    # Grid search start\n",
    "    for deg in range(1, degree+1):\n",
    "        for lambda_ in lambdas:\n",
    "            # K-folds Cross validation with K=5\n",
    "            accuracy =  cross_validation(train_data_jet[:, 1:], acronym, method, seed=seed, k_fold=k_fold, deg=deg, lambda_=lambda_)\n",
    "            plot_values.append([jet, deg, lambda_, accuracy])\n",
    "            accuracies.append([deg, lambda_, accuracy])\n",
    "            print(f\"Done lambda = {lambda_}\")\n",
    "        print(\"deg: \",deg, end='\\r')\n",
    "    accuracies_np = np.array(accuracies)\n",
    "    best_model = accuracies_np[np.argmax(accuracies_np[:,2]), 0:3]\n",
    "    print('jet: ',jet,best_model)\n"
   ]
  },
  {
   "cell_type": "markdown",
   "id": "8f90ed06",
   "metadata": {},
   "source": [
    "### Plot results of GridSearch on Ridge Regression hyper-parameters"
   ]
  },
  {
   "cell_type": "code",
   "execution_count": 1,
   "id": "xaVZlH2xFWUX",
   "metadata": {
    "executionInfo": {
     "elapsed": 358,
     "status": "ok",
     "timestamp": 1635729705264,
     "user": {
      "displayName": "Shadi Naguib",
      "photoUrl": "https://lh3.googleusercontent.com/a/default-user=s64",
      "userId": "02769169812502290238"
     },
     "user_tz": -60
    },
    "id": "xaVZlH2xFWUX",
    "scrolled": true
   },
   "outputs": [
    {
     "ename": "NameError",
     "evalue": "name 'np' is not defined",
     "output_type": "error",
     "traceback": [
      "\u001b[0;31m---------------------------------------------------------------------------\u001b[0m",
      "\u001b[0;31mNameError\u001b[0m                                 Traceback (most recent call last)",
      "\u001b[0;32m<ipython-input-1-fb2516da0d78>\u001b[0m in \u001b[0;36m<module>\u001b[0;34m\u001b[0m\n\u001b[1;32m      1\u001b[0m \u001b[0;31m# Plot the results of GridSearch on Ridge Regression hyper-parameters\u001b[0m\u001b[0;34m\u001b[0m\u001b[0;34m\u001b[0m\u001b[0;34m\u001b[0m\u001b[0m\n\u001b[1;32m      2\u001b[0m \u001b[0;34m\u001b[0m\u001b[0m\n\u001b[0;32m----> 3\u001b[0;31m \u001b[0mplot_np\u001b[0m \u001b[0;34m=\u001b[0m \u001b[0;34m(\u001b[0m\u001b[0mnp\u001b[0m\u001b[0;34m.\u001b[0m\u001b[0marray\u001b[0m\u001b[0;34m(\u001b[0m\u001b[0mplot_values\u001b[0m\u001b[0;34m)\u001b[0m\u001b[0;34m)\u001b[0m\u001b[0;34m[\u001b[0m\u001b[0;34m:\u001b[0m\u001b[0;34m,\u001b[0m \u001b[0;36m1\u001b[0m\u001b[0;34m:\u001b[0m\u001b[0;34m]\u001b[0m\u001b[0;34m\u001b[0m\u001b[0;34m\u001b[0m\u001b[0m\n\u001b[0m\u001b[1;32m      4\u001b[0m plot_np = plot_np[(plot_np[:, 0] == 1) | \n\u001b[1;32m      5\u001b[0m         \u001b[0;34m(\u001b[0m\u001b[0mplot_np\u001b[0m\u001b[0;34m[\u001b[0m\u001b[0;34m:\u001b[0m\u001b[0;34m,\u001b[0m \u001b[0;36m0\u001b[0m\u001b[0;34m]\u001b[0m \u001b[0;34m==\u001b[0m \u001b[0;36m3\u001b[0m\u001b[0;34m)\u001b[0m \u001b[0;34m|\u001b[0m\u001b[0;34m\u001b[0m\u001b[0;34m\u001b[0m\u001b[0m\n",
      "\u001b[0;31mNameError\u001b[0m: name 'np' is not defined"
     ]
    }
   ],
   "source": [
    "# Creation of axis\n",
    "plot_np = (np.array(plot_values))[:, 1:]\n",
    "plot_np = plot_np[(plot_np[:, 0] == 1) | \n",
    "        (plot_np[:, 0] == 3) |\n",
    "        (plot_np[:, 0] == 6) |\n",
    "        (plot_np[:, 0] == 9) |\n",
    "        (plot_np[:, 0] == 12) |\n",
    "        (plot_np[:, 0] == 15)]"
   ]
  },
  {
   "cell_type": "code",
   "execution_count": 79,
   "id": "rVvHSjxGU8s3",
   "metadata": {
    "colab": {
     "base_uri": "https://localhost:8080/",
     "height": 279
    },
    "executionInfo": {
     "elapsed": 1101,
     "status": "ok",
     "timestamp": 1635735020716,
     "user": {
      "displayName": "Shadi Naguib",
      "photoUrl": "https://lh3.googleusercontent.com/a/default-user=s64",
      "userId": "02769169812502290238"
     },
     "user_tz": -60
    },
    "id": "rVvHSjxGU8s3",
    "outputId": "746835fb-0121-499a-96e0-5f3c0e3f5905"
   },
   "outputs": [
    {
     "data": {
      "image/png": "[encoded data removed]",
      "text/plain": [
       "<Figure size 432x288 with 2 Axes>"
      ]
     },
     "metadata": {
      "needs_background": "light"
     },
     "output_type": "display_data"
    }
   ],
   "source": [
    "import pandas as pd # Only for visualization\n",
    "import matplotlib.pyplot as plt\n",
    "\n",
    "data = pd.DataFrame({'Polynomial degree': plot_np[:, 0], 'Lambda': plot_np[:, 1], 'Z': plot_np[:, 2]})\n",
    "data_pivoted = data.pivot(\"Polynomial degree\", \"Lambda\", \"Z\")\n",
    "ax = sns.heatmap(data_pivoted, annot=True, fmt='.5g', linewidths=.5)\n",
    "#plt.show()\n",
    "plt.savefig('heatmap_jet0.jpg', dpi=600)"
   ]
  },
  {
   "cell_type": "markdown",
   "id": "3350eafe",
   "metadata": {},
   "source": [
    "# Run the model"
   ]
  },
  {
   "cell_type": "code",
   "execution_count": 130,
   "id": "OM8O57d5gjsf",
   "metadata": {
    "colab": {
     "base_uri": "https://localhost:8080/"
    },
    "executionInfo": {
     "elapsed": 170295,
     "status": "ok",
     "timestamp": 1635760456492,
     "user": {
      "displayName": "Shadi Naguib",
      "photoUrl": "https://lh3.googleusercontent.com/a/default-user=s64",
      "userId": "02769169812502290238"
     },
     "user_tz": -60
    },
    "id": "OM8O57d5gjsf",
    "outputId": "6b0e7977-daa4-41ab-f8c2-c899212c23cd",
    "scrolled": true
   },
   "outputs": [
    {
     "name": "stdout",
     "output_type": "stream",
     "text": [
      "Loading of the data \n",
      "\n",
      "tcmalloc: large alloc 1963835392 bytes == 0x5612513bc000 @  0x7f14f671e001 0x7f14f42dc54f 0x7f14f432cb58 0x7f14f432fe83 0x7f14f433007b 0x7f14f43d1761 0x561214e0e544 0x561214e0e240 0x561214e82627 0x561214e7cced 0x561214e0fbda 0x561214e7e737 0x561214e7c9ee 0x561214e7c6f3 0x561214f464c2 0x561214f4683d 0x561214f466e6 0x561214f1e163 0x561214f1de0c 0x7f14f5506bf7 0x561214f1dcea\n",
      "Preprocessing of the data \n",
      "\n",
      "Training of the weights \n",
      "\n",
      "new values yy\n",
      "0.0001 9\n",
      "new values yy\n",
      "0.01 12\n",
      "new values yy\n",
      "0.001 12\n",
      "new values yy\n",
      "1 12\n",
      "Computation of the test prediction \n",
      "\n",
      "Creation of the submission file \n",
      "\n",
      "Submission file created under 'submission.csv'\n",
      "\n"
     ]
    }
   ],
   "source": [
    "!python3 run.py"
   ]
  },
  {
   "cell_type": "code",
   "execution_count": null,
   "id": "3c849212",
   "metadata": {},
   "outputs": [],
   "source": []
  },
  {
   "cell_type": "markdown",
   "id": "cde941ae",
   "metadata": {
    "id": "rj6eHzHRmHnl"
   },
   "source": [
    "# GridSearch for all methods and parameters"
   ]
  },
  {
   "cell_type": "code",
   "execution_count": null,
   "id": "c571c86c",
   "metadata": {},
   "outputs": [],
   "source": [
    "\n",
    "### GridSearch for the best model for all methods and parameters (very long)\n",
    "\n",
    "methods = [least_squares_GD, least_squares_SGD, least_squares, ridge_regression, logistic_regression, reg_logistic_regression]\n",
    "# Acronyms:  LSGD  LSSGD  LS  RR  LR  RLR\n",
    "# Flags for method\n",
    "LS=False #for LS_GD, LS_SGD and logreg because same parameters\n",
    "RR=False #for Ridge Regression\n",
    "RLR=False #for reg log reg\n",
    "\n",
    "\n",
    "train_data_jets = train_data_mean.copy()\n",
    "nbr_jet = 4\n",
    "lambdas = np.logspace(-4, 0, 5)\n",
    "gammas = [ 0.001, 0.005, 0.01, 0.05, 0.1, 0.2] \n",
    "max_iterations = [50, 100, 150, 300]\n",
    "degree = 12\n",
    "k_fold = 10\n",
    "seed = 6\n",
    "\n",
    "\n",
    "for c in range(len(methods)):\n",
    "    c=0\n",
    "    method = methods[c]\n",
    "    LS, RR, RLR, acronym  = set_flags(criterion) \n",
    "    print(LS,RR,RLR, acronym)\n",
    "    for jet in range(nbr_jet):\n",
    "        # Actual dataset used for the current jet\n",
    "        train_data_jet = train_data_jets[jet]\n",
    "        accuracies = []\n",
    "\n",
    "        # Grid search start\n",
    "        for deg in range(8, degree+1):\n",
    "            print(\"method: {}  jet: {}  deg: {}\".format(method,jet,deg), end='\\r')\n",
    "            if (method == least_squares):\n",
    "                # Least Squares\n",
    "                with open(\"best_results.txt\", \"a+\") as external_file: \n",
    "                    print(\"[ Accuracy degree]\", file=external_file)\n",
    "                    external_file.close()\n",
    "                accuracy =  cross_validation(train_data_jet, acronym, method, seed=seed, k_fold=k_fold, deg=deg)\n",
    "                accuracies.append([accuracy, deg])\n",
    "            elif (RR):\n",
    "                # Ridge Regression\n",
    "                with open(\"best_results.txt\", \"a+\") as external_file: \n",
    "                    print(\"[ Accuracy degree lambda_]\", file=external_file)\n",
    "                    external_file.close()\n",
    "                for lambda_ in lambdas: \n",
    "                    accuracy =  cross_validation(train_data_jet, acronym, method, seed, k_fold=k_fold, deg=deg, lambda_=lambda_)\n",
    "                    accuracies.append([accuracy, deg, lambda_])\n",
    "            elif (LS):\n",
    "                # LeastSquares GD or SGD, or Logistic Regression\n",
    "                with open(\"best_results.txt\", \"a+\") as external_file: \n",
    "                    print(\"[ Accuracy degree max_iters gamma]\", file=external_file)\n",
    "                    print(\"write init done\")\n",
    "                    external_file.close()\n",
    "                for max_iters in max_iterations:\n",
    "                    for gamma in gammas:\n",
    "                        print(\"max_iters:{}  gamma:{}\".format(max_iters, gamma), end='\\r')\n",
    "                        accuracy =  cross_validation(train_data_jet, acronym, method, seed, k_fold=k_fold, deg=deg, max_iters=max_iters, gamma=gamma)\n",
    "                        accuracies.append([accuracy, deg, max_iters, gamma])\n",
    "            elif (RLR):\n",
    "                # Regularized Logistic Regression\n",
    "                with open(\"best_results.txt\", \"a+\") as external_file: \n",
    "                    print(\"[ Accuracy degree max_iters gamma lambda_]\", file=external_file)\n",
    "                    external_file.close()\n",
    "                for max_iters in max_iterations:\n",
    "                    for gamma in gammas:\n",
    "                        for lambda_ in lambdas:   \n",
    "                            accuracy =  cross_validation(train_data_jet, acronym, method, seed, k_fold=k_fold, deg=deg, max_iters=max_iters, gamma=gamma, lambda_=lambda_)\n",
    "                            accuracies.append([accuracy, deg, max_iters, gamma, lambda_])\n",
    "                \n",
    "        accuracies_np = np.array(accuracies)\n",
    "        best_model = accuracies_np[np.argmax(accuracies_np[:,0]), :]\n",
    "        print('method: ',method,' jet: ',jet,best_model)\n",
    "        \n",
    "        with open(\"best_results.txt\", \"a+\") as external_file:\n",
    "            print('method: ',method,' jet: ',jet,best_model, file=external_file)\n",
    "            external_file.close()\n"
   ]
  }
 ],
 "metadata": {
  "colab": {
   "collapsed_sections": [],
   "machine_shape": "hm",
   "name": "temp_Project1notebook.ipynb",
   "provenance": []
  },
  "kernelspec": {
   "display_name": "Python 3",
   "language": "python",
   "name": "python3"
  },
  "language_info": {
   "codemirror_mode": {
    "name": "ipython",
    "version": 3
   },
   "file_extension": ".py",
   "mimetype": "text/x-python",
   "name": "python",
   "nbconvert_exporter": "python",
   "pygments_lexer": "ipython3",
   "version": "3.8.12"
  }
 },
 "nbformat": 4,
 "nbformat_minor": 5
}
